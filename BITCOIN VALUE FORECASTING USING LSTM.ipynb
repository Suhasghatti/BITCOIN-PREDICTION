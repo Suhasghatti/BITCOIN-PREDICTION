{
 "cells": [
  {
   "cell_type": "code",
   "execution_count": 1,
   "id": "9fe2866f",
   "metadata": {},
   "outputs": [],
   "source": [
    "import numpy as np\n",
    "import pandas as pd\n",
    "import matplotlib.pyplot as plt\n",
    "import os\n",
    "os.chdir(r'C:\\Post Graduate Course in Data Analytics\\KAGGLE DATASETS, SCRIPTS & PPTS\\BITCOIN VALUE TIME SERIES PROJECT')"
   ]
  },
  {
   "cell_type": "code",
   "execution_count": 75,
   "id": "c46da013",
   "metadata": {},
   "outputs": [
    {
     "data": {
      "text/html": [
       "<div>\n",
       "<style scoped>\n",
       "    .dataframe tbody tr th:only-of-type {\n",
       "        vertical-align: middle;\n",
       "    }\n",
       "\n",
       "    .dataframe tbody tr th {\n",
       "        vertical-align: top;\n",
       "    }\n",
       "\n",
       "    .dataframe thead th {\n",
       "        text-align: right;\n",
       "    }\n",
       "</style>\n",
       "<table border=\"1\" class=\"dataframe\">\n",
       "  <thead>\n",
       "    <tr style=\"text-align: right;\">\n",
       "      <th></th>\n",
       "      <th>SNo</th>\n",
       "      <th>Name</th>\n",
       "      <th>Symbol</th>\n",
       "      <th>Date</th>\n",
       "      <th>High</th>\n",
       "      <th>Low</th>\n",
       "      <th>Open</th>\n",
       "      <th>Close</th>\n",
       "      <th>Volume</th>\n",
       "      <th>Marketcap</th>\n",
       "    </tr>\n",
       "  </thead>\n",
       "  <tbody>\n",
       "    <tr>\n",
       "      <th>0</th>\n",
       "      <td>1</td>\n",
       "      <td>Bitcoin</td>\n",
       "      <td>BTC</td>\n",
       "      <td>2013-04-29 23:59:59</td>\n",
       "      <td>147.488007</td>\n",
       "      <td>134.000000</td>\n",
       "      <td>134.444000</td>\n",
       "      <td>144.539993</td>\n",
       "      <td>0.000000e+00</td>\n",
       "      <td>1.603769e+09</td>\n",
       "    </tr>\n",
       "    <tr>\n",
       "      <th>1</th>\n",
       "      <td>2</td>\n",
       "      <td>Bitcoin</td>\n",
       "      <td>BTC</td>\n",
       "      <td>2013-04-30 23:59:59</td>\n",
       "      <td>146.929993</td>\n",
       "      <td>134.050003</td>\n",
       "      <td>144.000000</td>\n",
       "      <td>139.000000</td>\n",
       "      <td>0.000000e+00</td>\n",
       "      <td>1.542813e+09</td>\n",
       "    </tr>\n",
       "    <tr>\n",
       "      <th>2</th>\n",
       "      <td>3</td>\n",
       "      <td>Bitcoin</td>\n",
       "      <td>BTC</td>\n",
       "      <td>2013-05-01 23:59:59</td>\n",
       "      <td>139.889999</td>\n",
       "      <td>107.720001</td>\n",
       "      <td>139.000000</td>\n",
       "      <td>116.989998</td>\n",
       "      <td>0.000000e+00</td>\n",
       "      <td>1.298955e+09</td>\n",
       "    </tr>\n",
       "    <tr>\n",
       "      <th>3</th>\n",
       "      <td>4</td>\n",
       "      <td>Bitcoin</td>\n",
       "      <td>BTC</td>\n",
       "      <td>2013-05-02 23:59:59</td>\n",
       "      <td>125.599998</td>\n",
       "      <td>92.281898</td>\n",
       "      <td>116.379997</td>\n",
       "      <td>105.209999</td>\n",
       "      <td>0.000000e+00</td>\n",
       "      <td>1.168517e+09</td>\n",
       "    </tr>\n",
       "    <tr>\n",
       "      <th>4</th>\n",
       "      <td>5</td>\n",
       "      <td>Bitcoin</td>\n",
       "      <td>BTC</td>\n",
       "      <td>2013-05-03 23:59:59</td>\n",
       "      <td>108.127998</td>\n",
       "      <td>79.099998</td>\n",
       "      <td>106.250000</td>\n",
       "      <td>97.750000</td>\n",
       "      <td>0.000000e+00</td>\n",
       "      <td>1.085995e+09</td>\n",
       "    </tr>\n",
       "    <tr>\n",
       "      <th>...</th>\n",
       "      <td>...</td>\n",
       "      <td>...</td>\n",
       "      <td>...</td>\n",
       "      <td>...</td>\n",
       "      <td>...</td>\n",
       "      <td>...</td>\n",
       "      <td>...</td>\n",
       "      <td>...</td>\n",
       "      <td>...</td>\n",
       "      <td>...</td>\n",
       "    </tr>\n",
       "    <tr>\n",
       "      <th>2986</th>\n",
       "      <td>2987</td>\n",
       "      <td>Bitcoin</td>\n",
       "      <td>BTC</td>\n",
       "      <td>2021-07-02 23:59:59</td>\n",
       "      <td>33939.588699</td>\n",
       "      <td>32770.680780</td>\n",
       "      <td>33549.600177</td>\n",
       "      <td>33897.048590</td>\n",
       "      <td>3.872897e+10</td>\n",
       "      <td>6.354508e+11</td>\n",
       "    </tr>\n",
       "    <tr>\n",
       "      <th>2987</th>\n",
       "      <td>2988</td>\n",
       "      <td>Bitcoin</td>\n",
       "      <td>BTC</td>\n",
       "      <td>2021-07-03 23:59:59</td>\n",
       "      <td>34909.259899</td>\n",
       "      <td>33402.696536</td>\n",
       "      <td>33854.421362</td>\n",
       "      <td>34668.548402</td>\n",
       "      <td>2.438396e+10</td>\n",
       "      <td>6.499397e+11</td>\n",
       "    </tr>\n",
       "    <tr>\n",
       "      <th>2988</th>\n",
       "      <td>2989</td>\n",
       "      <td>Bitcoin</td>\n",
       "      <td>BTC</td>\n",
       "      <td>2021-07-04 23:59:59</td>\n",
       "      <td>35937.567147</td>\n",
       "      <td>34396.477458</td>\n",
       "      <td>34665.564866</td>\n",
       "      <td>35287.779766</td>\n",
       "      <td>2.492431e+10</td>\n",
       "      <td>6.615748e+11</td>\n",
       "    </tr>\n",
       "    <tr>\n",
       "      <th>2989</th>\n",
       "      <td>2990</td>\n",
       "      <td>Bitcoin</td>\n",
       "      <td>BTC</td>\n",
       "      <td>2021-07-05 23:59:59</td>\n",
       "      <td>35284.344430</td>\n",
       "      <td>33213.661034</td>\n",
       "      <td>35284.344430</td>\n",
       "      <td>33746.002456</td>\n",
       "      <td>2.672155e+10</td>\n",
       "      <td>6.326962e+11</td>\n",
       "    </tr>\n",
       "    <tr>\n",
       "      <th>2990</th>\n",
       "      <td>2991</td>\n",
       "      <td>Bitcoin</td>\n",
       "      <td>BTC</td>\n",
       "      <td>2021-07-06 23:59:59</td>\n",
       "      <td>35038.536363</td>\n",
       "      <td>33599.916169</td>\n",
       "      <td>33723.509655</td>\n",
       "      <td>34235.193451</td>\n",
       "      <td>2.650126e+10</td>\n",
       "      <td>6.418992e+11</td>\n",
       "    </tr>\n",
       "  </tbody>\n",
       "</table>\n",
       "<p>2991 rows × 10 columns</p>\n",
       "</div>"
      ],
      "text/plain": [
       "       SNo     Name Symbol                 Date          High           Low  \\\n",
       "0        1  Bitcoin    BTC  2013-04-29 23:59:59    147.488007    134.000000   \n",
       "1        2  Bitcoin    BTC  2013-04-30 23:59:59    146.929993    134.050003   \n",
       "2        3  Bitcoin    BTC  2013-05-01 23:59:59    139.889999    107.720001   \n",
       "3        4  Bitcoin    BTC  2013-05-02 23:59:59    125.599998     92.281898   \n",
       "4        5  Bitcoin    BTC  2013-05-03 23:59:59    108.127998     79.099998   \n",
       "...    ...      ...    ...                  ...           ...           ...   \n",
       "2986  2987  Bitcoin    BTC  2021-07-02 23:59:59  33939.588699  32770.680780   \n",
       "2987  2988  Bitcoin    BTC  2021-07-03 23:59:59  34909.259899  33402.696536   \n",
       "2988  2989  Bitcoin    BTC  2021-07-04 23:59:59  35937.567147  34396.477458   \n",
       "2989  2990  Bitcoin    BTC  2021-07-05 23:59:59  35284.344430  33213.661034   \n",
       "2990  2991  Bitcoin    BTC  2021-07-06 23:59:59  35038.536363  33599.916169   \n",
       "\n",
       "              Open         Close        Volume     Marketcap  \n",
       "0       134.444000    144.539993  0.000000e+00  1.603769e+09  \n",
       "1       144.000000    139.000000  0.000000e+00  1.542813e+09  \n",
       "2       139.000000    116.989998  0.000000e+00  1.298955e+09  \n",
       "3       116.379997    105.209999  0.000000e+00  1.168517e+09  \n",
       "4       106.250000     97.750000  0.000000e+00  1.085995e+09  \n",
       "...            ...           ...           ...           ...  \n",
       "2986  33549.600177  33897.048590  3.872897e+10  6.354508e+11  \n",
       "2987  33854.421362  34668.548402  2.438396e+10  6.499397e+11  \n",
       "2988  34665.564866  35287.779766  2.492431e+10  6.615748e+11  \n",
       "2989  35284.344430  33746.002456  2.672155e+10  6.326962e+11  \n",
       "2990  33723.509655  34235.193451  2.650126e+10  6.418992e+11  \n",
       "\n",
       "[2991 rows x 10 columns]"
      ]
     },
     "execution_count": 75,
     "metadata": {},
     "output_type": "execute_result"
    }
   ],
   "source": [
    "df=pd.read_csv('coin_Bitcoin.csv')\n",
    "df"
   ]
  },
  {
   "cell_type": "code",
   "execution_count": 76,
   "id": "c3e646a5",
   "metadata": {},
   "outputs": [
    {
     "name": "stdout",
     "output_type": "stream",
     "text": [
      "<class 'pandas.core.frame.DataFrame'>\n",
      "RangeIndex: 2991 entries, 0 to 2990\n",
      "Data columns (total 10 columns):\n",
      " #   Column     Non-Null Count  Dtype  \n",
      "---  ------     --------------  -----  \n",
      " 0   SNo        2991 non-null   int64  \n",
      " 1   Name       2991 non-null   object \n",
      " 2   Symbol     2991 non-null   object \n",
      " 3   Date       2991 non-null   object \n",
      " 4   High       2991 non-null   float64\n",
      " 5   Low        2991 non-null   float64\n",
      " 6   Open       2991 non-null   float64\n",
      " 7   Close      2991 non-null   float64\n",
      " 8   Volume     2991 non-null   float64\n",
      " 9   Marketcap  2991 non-null   float64\n",
      "dtypes: float64(6), int64(1), object(3)\n",
      "memory usage: 233.8+ KB\n"
     ]
    }
   ],
   "source": [
    "df.info()"
   ]
  },
  {
   "cell_type": "code",
   "execution_count": 77,
   "id": "8855e687",
   "metadata": {},
   "outputs": [
    {
     "data": {
      "text/plain": [
       "0         144.539993\n",
       "1         139.000000\n",
       "2         116.989998\n",
       "3         105.209999\n",
       "4          97.750000\n",
       "            ...     \n",
       "2986    33897.048590\n",
       "2987    34668.548402\n",
       "2988    35287.779766\n",
       "2989    33746.002456\n",
       "2990    34235.193451\n",
       "Name: Close, Length: 2991, dtype: float64"
      ]
     },
     "execution_count": 77,
     "metadata": {},
     "output_type": "execute_result"
    }
   ],
   "source": [
    "df1=df.reset_index()['Close']\n",
    "df1"
   ]
  },
  {
   "cell_type": "code",
   "execution_count": 78,
   "id": "aa9f146e",
   "metadata": {},
   "outputs": [
    {
     "data": {
      "text/plain": [
       "[<matplotlib.lines.Line2D at 0x25c8b268ee0>]"
      ]
     },
     "execution_count": 78,
     "metadata": {},
     "output_type": "execute_result"
    },
    {
     "data": {
      "image/png": "[encoded data removed]",
      "text/plain": [
       "<Figure size 432x288 with 1 Axes>"
      ]
     },
     "metadata": {
      "needs_background": "light"
     },
     "output_type": "display_data"
    }
   ],
   "source": [
    "plt.plot(df1)"
   ]
  },
  {
   "cell_type": "code",
   "execution_count": 79,
   "id": "8affed0c",
   "metadata": {},
   "outputs": [],
   "source": [
    "from sklearn.preprocessing import MinMaxScaler"
   ]
  },
  {
   "cell_type": "code",
   "execution_count": 80,
   "id": "98c2842e",
   "metadata": {},
   "outputs": [],
   "source": [
    "sc=MinMaxScaler(feature_range=(0,1))\n",
    "df1=sc.fit_transform(np.array(df1).reshape(-1,1))"
   ]
  },
  {
   "cell_type": "code",
   "execution_count": 81,
   "id": "178ca251",
   "metadata": {},
   "outputs": [
    {
     "data": {
      "text/plain": [
       "array([[0.00119979],\n",
       "       [0.00111246],\n",
       "       [0.00076549],\n",
       "       ...,\n",
       "       [0.5552035 ],\n",
       "       [0.53089867],\n",
       "       [0.53861036]])"
      ]
     },
     "execution_count": 81,
     "metadata": {},
     "output_type": "execute_result"
    }
   ],
   "source": [
    "df1"
   ]
  },
  {
   "cell_type": "code",
   "execution_count": 82,
   "id": "87479d64",
   "metadata": {},
   "outputs": [],
   "source": [
    "train_size=int(len(df1)*0.75)\n",
    "test_size=len(df1)-train_size\n",
    "train_data,test_data=df1[0:train_size,:],df1[train_size:len(df1),:1]"
   ]
  },
  {
   "cell_type": "code",
   "execution_count": 83,
   "id": "14e0c959",
   "metadata": {},
   "outputs": [
    {
     "data": {
      "text/plain": [
       "2243"
      ]
     },
     "execution_count": 83,
     "metadata": {},
     "output_type": "execute_result"
    }
   ],
   "source": [
    "len(train_data)"
   ]
  },
  {
   "cell_type": "code",
   "execution_count": 84,
   "id": "6937dc24",
   "metadata": {},
   "outputs": [
    {
     "data": {
      "text/plain": [
       "748"
      ]
     },
     "execution_count": 84,
     "metadata": {},
     "output_type": "execute_result"
    }
   ],
   "source": [
    "len(test_data)"
   ]
  },
  {
   "cell_type": "code",
   "execution_count": 85,
   "id": "6bf16946",
   "metadata": {},
   "outputs": [],
   "source": [
    "def create_dataset(dataset,time_step):\n",
    "    x,y=[],[]\n",
    "    for i in range(len(dataset)-time_step-1):\n",
    "        a=dataset[i:(i+time_step),0]\n",
    "        x.append(a)\n",
    "        y.append(dataset[i+time_step,0])\n",
    "    return np.array(x),np.array(y)"
   ]
  },
  {
   "cell_type": "code",
   "execution_count": 86,
   "id": "4e1a2e36",
   "metadata": {},
   "outputs": [],
   "source": [
    "xtrain,ytrain=create_dataset(train_data,150)"
   ]
  },
  {
   "cell_type": "code",
   "execution_count": 87,
   "id": "0d91dc35",
   "metadata": {},
   "outputs": [
    {
     "data": {
      "text/plain": [
       "(2092, 150)"
      ]
     },
     "execution_count": 87,
     "metadata": {},
     "output_type": "execute_result"
    }
   ],
   "source": [
    "xtrain.shape"
   ]
  },
  {
   "cell_type": "code",
   "execution_count": 88,
   "id": "2c00760c",
   "metadata": {},
   "outputs": [
    {
     "data": {
      "text/plain": [
       "(2092,)"
      ]
     },
     "execution_count": 88,
     "metadata": {},
     "output_type": "execute_result"
    }
   ],
   "source": [
    "ytrain.shape"
   ]
  },
  {
   "cell_type": "code",
   "execution_count": 92,
   "id": "214c2f4e",
   "metadata": {},
   "outputs": [],
   "source": [
    "xtest,ytest=create_dataset(test_data,150)"
   ]
  },
  {
   "cell_type": "code",
   "execution_count": 93,
   "id": "3d4f39ff",
   "metadata": {},
   "outputs": [
    {
     "data": {
      "text/plain": [
       "(597, 150)"
      ]
     },
     "execution_count": 93,
     "metadata": {},
     "output_type": "execute_result"
    }
   ],
   "source": [
    "xtest.shape"
   ]
  },
  {
   "cell_type": "code",
   "execution_count": 94,
   "id": "3a89f9e2",
   "metadata": {},
   "outputs": [
    {
     "data": {
      "text/plain": [
       "(597,)"
      ]
     },
     "execution_count": 94,
     "metadata": {},
     "output_type": "execute_result"
    }
   ],
   "source": [
    "ytest.shape"
   ]
  },
  {
   "cell_type": "code",
   "execution_count": 95,
   "id": "7a45691d",
   "metadata": {},
   "outputs": [],
   "source": [
    "xtrain=xtrain.reshape(xtrain.shape[0],xtrain.shape[1],1)\n",
    "xtest=xtest.reshape(xtest.shape[0],xtest.shape[1],1)"
   ]
  },
  {
   "cell_type": "code",
   "execution_count": 96,
   "id": "a74e6057",
   "metadata": {},
   "outputs": [
    {
     "name": "stdout",
     "output_type": "stream",
     "text": [
      "(2092, 150, 1) (597, 150, 1)\n"
     ]
    }
   ],
   "source": [
    "print(xtrain.shape,xtest.shape)"
   ]
  },
  {
   "cell_type": "code",
   "execution_count": 33,
   "id": "00e09d77",
   "metadata": {},
   "outputs": [],
   "source": [
    "from keras.models import Sequential\n",
    "from keras.layers import LSTM,Dense"
   ]
  },
  {
   "cell_type": "code",
   "execution_count": 102,
   "id": "1a361f13",
   "metadata": {},
   "outputs": [],
   "source": [
    "model=Sequential()\n",
    "model.add(LSTM(50,return_sequences=True,input_shape=(150,1)))\n",
    "model.add(LSTM(50,return_sequences=True))\n",
    "model.add(LSTM(50,return_sequences=True))\n",
    "model.add(LSTM(50))\n",
    "model.add(Dense(1))"
   ]
  },
  {
   "cell_type": "code",
   "execution_count": 103,
   "id": "93161055",
   "metadata": {},
   "outputs": [
    {
     "name": "stdout",
     "output_type": "stream",
     "text": [
      "Model: \"sequential_6\"\n",
      "_________________________________________________________________\n",
      "Layer (type)                 Output Shape              Param #   \n",
      "=================================================================\n",
      "lstm_19 (LSTM)               (None, 150, 50)           10400     \n",
      "_________________________________________________________________\n",
      "lstm_20 (LSTM)               (None, 150, 50)           20200     \n",
      "_________________________________________________________________\n",
      "lstm_21 (LSTM)               (None, 150, 50)           20200     \n",
      "_________________________________________________________________\n",
      "lstm_22 (LSTM)               (None, 50)                20200     \n",
      "_________________________________________________________________\n",
      "dense_6 (Dense)              (None, 1)                 51        \n",
      "=================================================================\n",
      "Total params: 71,051\n",
      "Trainable params: 71,051\n",
      "Non-trainable params: 0\n",
      "_________________________________________________________________\n"
     ]
    }
   ],
   "source": [
    "model.summary()"
   ]
  },
  {
   "cell_type": "code",
   "execution_count": 104,
   "id": "396159a6",
   "metadata": {},
   "outputs": [],
   "source": [
    "model.compile(loss='mean_squared_error',optimizer='adam')"
   ]
  },
  {
   "cell_type": "code",
   "execution_count": 105,
   "id": "faa146e4",
   "metadata": {},
   "outputs": [
    {
     "name": "stdout",
     "output_type": "stream",
     "text": [
      "Epoch 1/100\n",
      "21/21 [==============================] - 27s 885ms/step - loss: 0.0013 - val_loss: 0.0316\n",
      "Epoch 2/100\n",
      "21/21 [==============================] - 15s 719ms/step - loss: 3.0270e-04 - val_loss: 0.0193\n",
      "Epoch 3/100\n",
      "21/21 [==============================] - 14s 665ms/step - loss: 2.0567e-04 - val_loss: 0.0175\n",
      "Epoch 4/100\n",
      "21/21 [==============================] - 13s 628ms/step - loss: 1.8674e-04 - val_loss: 0.0181\n",
      "Epoch 5/100\n",
      "21/21 [==============================] - 14s 671ms/step - loss: 1.6027e-04 - val_loss: 0.0170\n",
      "Epoch 6/100\n",
      "21/21 [==============================] - 13s 628ms/step - loss: 1.4632e-04 - val_loss: 0.0200\n",
      "Epoch 7/100\n",
      "21/21 [==============================] - 13s 640ms/step - loss: 1.2477e-04 - val_loss: 0.0301\n",
      "Epoch 8/100\n",
      "21/21 [==============================] - 14s 657ms/step - loss: 1.2378e-04 - val_loss: 0.0255\n",
      "Epoch 9/100\n",
      "21/21 [==============================] - 14s 644ms/step - loss: 1.2256e-04 - val_loss: 0.0395\n",
      "Epoch 10/100\n",
      "21/21 [==============================] - 14s 667ms/step - loss: 1.2604e-04 - val_loss: 0.0281\n",
      "Epoch 11/100\n",
      "21/21 [==============================] - 14s 667ms/step - loss: 1.2713e-04 - val_loss: 0.0250\n",
      "Epoch 12/100\n",
      "21/21 [==============================] - 15s 697ms/step - loss: 1.0626e-04 - val_loss: 0.0215\n",
      "Epoch 13/100\n",
      "21/21 [==============================] - 13s 642ms/step - loss: 1.2159e-04 - val_loss: 0.0223\n",
      "Epoch 14/100\n",
      "21/21 [==============================] - 14s 647ms/step - loss: 1.0776e-04 - val_loss: 0.0226\n",
      "Epoch 15/100\n",
      "21/21 [==============================] - 14s 682ms/step - loss: 1.0128e-04 - val_loss: 0.0223\n",
      "Epoch 16/100\n",
      "21/21 [==============================] - 14s 684ms/step - loss: 1.1200e-04 - val_loss: 0.0227\n",
      "Epoch 17/100\n",
      "21/21 [==============================] - 14s 656ms/step - loss: 9.9683e-05 - val_loss: 0.0174\n",
      "Epoch 18/100\n",
      "21/21 [==============================] - 14s 666ms/step - loss: 8.6426e-05 - val_loss: 0.0228\n",
      "Epoch 19/100\n",
      "21/21 [==============================] - 13s 632ms/step - loss: 8.7511e-05 - val_loss: 0.0185\n",
      "Epoch 20/100\n",
      "21/21 [==============================] - 13s 616ms/step - loss: 8.0098e-05 - val_loss: 0.0187\n",
      "Epoch 21/100\n",
      "21/21 [==============================] - 13s 635ms/step - loss: 8.5681e-05 - val_loss: 0.0253\n",
      "Epoch 22/100\n",
      "21/21 [==============================] - 14s 661ms/step - loss: 9.3762e-05 - val_loss: 0.0204\n",
      "Epoch 23/100\n",
      "21/21 [==============================] - 13s 603ms/step - loss: 7.7351e-05 - val_loss: 0.0173\n",
      "Epoch 24/100\n",
      "21/21 [==============================] - 13s 627ms/step - loss: 8.0741e-05 - val_loss: 0.0177\n",
      "Epoch 25/100\n",
      "21/21 [==============================] - 14s 654ms/step - loss: 8.6015e-05 - val_loss: 0.0153\n",
      "Epoch 26/100\n",
      "21/21 [==============================] - 14s 652ms/step - loss: 7.6439e-05 - val_loss: 0.0097\n",
      "Epoch 27/100\n",
      "21/21 [==============================] - 14s 663ms/step - loss: 7.2441e-05 - val_loss: 0.0110\n",
      "Epoch 28/100\n",
      "21/21 [==============================] - 13s 627ms/step - loss: 6.9830e-05 - val_loss: 0.0115\n",
      "Epoch 29/100\n",
      "21/21 [==============================] - 14s 670ms/step - loss: 6.4374e-05 - val_loss: 0.0111\n",
      "Epoch 30/100\n",
      "21/21 [==============================] - 14s 660ms/step - loss: 6.4229e-05 - val_loss: 0.0122\n",
      "Epoch 31/100\n",
      "21/21 [==============================] - 14s 659ms/step - loss: 6.8268e-05 - val_loss: 0.0123\n",
      "Epoch 32/100\n",
      "21/21 [==============================] - 13s 641ms/step - loss: 7.4062e-05 - val_loss: 0.0175\n",
      "Epoch 33/100\n",
      "21/21 [==============================] - 14s 693ms/step - loss: 6.8282e-05 - val_loss: 0.0099\n",
      "Epoch 34/100\n",
      "21/21 [==============================] - 14s 670ms/step - loss: 6.3893e-05 - val_loss: 0.0121\n",
      "Epoch 35/100\n",
      "21/21 [==============================] - 14s 681ms/step - loss: 5.4749e-05 - val_loss: 0.0098\n",
      "Epoch 36/100\n",
      "21/21 [==============================] - 13s 640ms/step - loss: 5.9525e-05 - val_loss: 0.0106\n",
      "Epoch 37/100\n",
      "21/21 [==============================] - 13s 621ms/step - loss: 5.8313e-05 - val_loss: 0.0133\n",
      "Epoch 38/100\n",
      "21/21 [==============================] - 14s 649ms/step - loss: 5.8982e-05 - val_loss: 0.0113\n",
      "Epoch 39/100\n",
      "21/21 [==============================] - 13s 626ms/step - loss: 5.6687e-05 - val_loss: 0.0122\n",
      "Epoch 40/100\n",
      "21/21 [==============================] - 13s 641ms/step - loss: 6.1266e-05 - val_loss: 0.0082\n",
      "Epoch 41/100\n",
      "21/21 [==============================] - 14s 664ms/step - loss: 5.5075e-05 - val_loss: 0.0109\n",
      "Epoch 42/100\n",
      "21/21 [==============================] - 13s 632ms/step - loss: 5.4514e-05 - val_loss: 0.0109\n",
      "Epoch 43/100\n",
      "21/21 [==============================] - 13s 644ms/step - loss: 6.2573e-05 - val_loss: 0.0119\n",
      "Epoch 44/100\n",
      "21/21 [==============================] - 14s 667ms/step - loss: 5.8098e-05 - val_loss: 0.0055\n",
      "Epoch 45/100\n",
      "21/21 [==============================] - 14s 680ms/step - loss: 5.3214e-05 - val_loss: 0.0043\n",
      "Epoch 46/100\n",
      "21/21 [==============================] - 14s 655ms/step - loss: 5.7483e-05 - val_loss: 0.0122\n",
      "Epoch 47/100\n",
      "21/21 [==============================] - 14s 658ms/step - loss: 4.9692e-05 - val_loss: 0.0094\n",
      "Epoch 48/100\n",
      "21/21 [==============================] - 14s 680ms/step - loss: 5.6098e-05 - val_loss: 0.0119\n",
      "Epoch 49/100\n",
      "21/21 [==============================] - 14s 669ms/step - loss: 5.0181e-05 - val_loss: 0.0098\n",
      "Epoch 50/100\n",
      "21/21 [==============================] - 14s 670ms/step - loss: 4.5984e-05 - val_loss: 0.0141\n",
      "Epoch 51/100\n",
      "21/21 [==============================] - 14s 661ms/step - loss: 5.2294e-05 - val_loss: 0.0127\n",
      "Epoch 52/100\n",
      "21/21 [==============================] - 14s 658ms/step - loss: 4.8639e-05 - val_loss: 0.0111\n",
      "Epoch 53/100\n",
      "21/21 [==============================] - 15s 711ms/step - loss: 5.3088e-05 - val_loss: 0.0073\n",
      "Epoch 54/100\n",
      "21/21 [==============================] - 14s 678ms/step - loss: 5.0005e-05 - val_loss: 0.0074\n",
      "Epoch 55/100\n",
      "21/21 [==============================] - 14s 661ms/step - loss: 4.3763e-05 - val_loss: 0.0072\n",
      "Epoch 56/100\n",
      "21/21 [==============================] - 14s 648ms/step - loss: 4.4564e-05 - val_loss: 0.0095\n",
      "Epoch 57/100\n",
      "21/21 [==============================] - 14s 646ms/step - loss: 5.0403e-05 - val_loss: 0.0085\n",
      "Epoch 58/100\n",
      "21/21 [==============================] - 14s 660ms/step - loss: 4.2838e-05 - val_loss: 0.0080\n",
      "Epoch 59/100\n",
      "21/21 [==============================] - 14s 683ms/step - loss: 4.5811e-05 - val_loss: 0.0116\n",
      "Epoch 60/100\n",
      "21/21 [==============================] - 14s 686ms/step - loss: 4.8912e-05 - val_loss: 0.0088\n",
      "Epoch 61/100\n",
      "21/21 [==============================] - 14s 670ms/step - loss: 4.4638e-05 - val_loss: 0.0070\n",
      "Epoch 62/100\n",
      "21/21 [==============================] - 14s 683ms/step - loss: 4.2124e-05 - val_loss: 0.0091\n",
      "Epoch 63/100\n",
      "21/21 [==============================] - 14s 653ms/step - loss: 4.6442e-05 - val_loss: 0.0083\n",
      "Epoch 64/100\n",
      "21/21 [==============================] - 14s 652ms/step - loss: 4.7868e-05 - val_loss: 0.0063\n",
      "Epoch 65/100\n",
      "21/21 [==============================] - 14s 677ms/step - loss: 5.1891e-05 - val_loss: 0.0089\n",
      "Epoch 66/100\n",
      "21/21 [==============================] - 14s 644ms/step - loss: 4.3031e-05 - val_loss: 0.0065\n",
      "Epoch 67/100\n",
      "21/21 [==============================] - 14s 648ms/step - loss: 4.3836e-05 - val_loss: 0.0086\n",
      "Epoch 68/100\n",
      "21/21 [==============================] - 14s 663ms/step - loss: 4.3150e-05 - val_loss: 0.0099\n",
      "Epoch 69/100\n",
      "21/21 [==============================] - 14s 648ms/step - loss: 4.6981e-05 - val_loss: 0.0085\n",
      "Epoch 70/100\n",
      "21/21 [==============================] - 14s 674ms/step - loss: 4.9902e-05 - val_loss: 0.0110\n",
      "Epoch 71/100\n",
      "21/21 [==============================] - 14s 677ms/step - loss: 4.4254e-05 - val_loss: 0.0126\n",
      "Epoch 72/100\n",
      "21/21 [==============================] - 14s 686ms/step - loss: 4.7455e-05 - val_loss: 0.0139\n",
      "Epoch 73/100\n",
      "21/21 [==============================] - 14s 669ms/step - loss: 4.8028e-05 - val_loss: 0.0058\n",
      "Epoch 74/100\n",
      "21/21 [==============================] - 14s 658ms/step - loss: 4.2173e-05 - val_loss: 0.0077\n",
      "Epoch 75/100\n",
      "21/21 [==============================] - 14s 658ms/step - loss: 3.8718e-05 - val_loss: 0.0066\n",
      "Epoch 76/100\n",
      "21/21 [==============================] - 14s 650ms/step - loss: 3.9707e-05 - val_loss: 0.0087\n",
      "Epoch 77/100\n",
      "21/21 [==============================] - 14s 653ms/step - loss: 4.2080e-05 - val_loss: 0.0109\n",
      "Epoch 78/100\n",
      "21/21 [==============================] - 14s 676ms/step - loss: 4.3421e-05 - val_loss: 0.0105\n",
      "Epoch 79/100\n",
      "21/21 [==============================] - 14s 672ms/step - loss: 4.1125e-05 - val_loss: 0.0090\n",
      "Epoch 80/100\n",
      "21/21 [==============================] - 14s 649ms/step - loss: 3.8607e-05 - val_loss: 0.0095\n",
      "Epoch 81/100\n",
      "21/21 [==============================] - 14s 674ms/step - loss: 4.1353e-05 - val_loss: 0.0102\n",
      "Epoch 82/100\n",
      "21/21 [==============================] - 14s 676ms/step - loss: 3.8686e-05 - val_loss: 0.0109\n",
      "Epoch 83/100\n",
      "21/21 [==============================] - 14s 671ms/step - loss: 3.7390e-05 - val_loss: 0.0080\n",
      "Epoch 84/100\n",
      "21/21 [==============================] - 14s 661ms/step - loss: 4.2913e-05 - val_loss: 0.0076\n",
      "Epoch 85/100\n",
      "21/21 [==============================] - 13s 637ms/step - loss: 6.1540e-05 - val_loss: 0.0087\n",
      "Epoch 86/100\n",
      "21/21 [==============================] - 13s 643ms/step - loss: 4.5748e-05 - val_loss: 0.0077\n",
      "Epoch 87/100\n",
      "21/21 [==============================] - 14s 648ms/step - loss: 4.4760e-05 - val_loss: 0.0114\n",
      "Epoch 88/100\n",
      "21/21 [==============================] - 14s 665ms/step - loss: 4.0587e-05 - val_loss: 0.0081\n",
      "Epoch 89/100\n",
      "21/21 [==============================] - 14s 654ms/step - loss: 3.3261e-05 - val_loss: 0.0100\n",
      "Epoch 90/100\n",
      "21/21 [==============================] - 16s 752ms/step - loss: 3.6894e-05 - val_loss: 0.0105\n",
      "Epoch 91/100\n",
      "21/21 [==============================] - 14s 648ms/step - loss: 3.2622e-05 - val_loss: 0.0085\n",
      "Epoch 92/100\n",
      "21/21 [==============================] - 14s 651ms/step - loss: 3.1091e-05 - val_loss: 0.0098\n",
      "Epoch 93/100\n",
      "21/21 [==============================] - 14s 689ms/step - loss: 3.0182e-05 - val_loss: 0.0096\n",
      "Epoch 94/100\n",
      "21/21 [==============================] - 14s 668ms/step - loss: 2.9393e-05 - val_loss: 0.0095\n",
      "Epoch 95/100\n",
      "21/21 [==============================] - 14s 684ms/step - loss: 3.5688e-05 - val_loss: 0.0074\n",
      "Epoch 96/100\n",
      "21/21 [==============================] - 14s 675ms/step - loss: 3.4753e-05 - val_loss: 0.0067\n",
      "Epoch 97/100\n",
      "21/21 [==============================] - 14s 663ms/step - loss: 3.4095e-05 - val_loss: 0.0124\n",
      "Epoch 98/100\n",
      "21/21 [==============================] - 15s 711ms/step - loss: 3.7030e-05 - val_loss: 0.0112\n",
      "Epoch 99/100\n",
      "21/21 [==============================] - 14s 654ms/step - loss: 3.4325e-05 - val_loss: 0.0090\n",
      "Epoch 100/100\n",
      "21/21 [==============================] - 14s 658ms/step - loss: 2.9915e-05 - val_loss: 0.0059\n"
     ]
    }
   ],
   "source": [
    "history=model.fit(xtrain,ytrain,validation_data=(xtest,ytest),epochs=100,batch_size=100,verbose=1)"
   ]
  },
  {
   "cell_type": "code",
   "execution_count": 106,
   "id": "0c5c0805",
   "metadata": {},
   "outputs": [],
   "source": [
    "train_predict=model.predict(xtrain)\n",
    "test_predict=model.predict(xtest)"
   ]
  },
  {
   "cell_type": "code",
   "execution_count": 107,
   "id": "caa088f8",
   "metadata": {},
   "outputs": [],
   "source": [
    "train_predict=sc.inverse_transform(train_predict)\n",
    "test_predict=sc.inverse_transform(test_predict)"
   ]
  },
  {
   "cell_type": "code",
   "execution_count": 108,
   "id": "3fec82d6",
   "metadata": {},
   "outputs": [],
   "source": [
    "from sklearn.metrics import mean_squared_error"
   ]
  },
  {
   "cell_type": "code",
   "execution_count": 109,
   "id": "6d8496da",
   "metadata": {},
   "outputs": [
    {
     "data": {
      "text/plain": [
       "4401.440320150487"
      ]
     },
     "execution_count": 109,
     "metadata": {},
     "output_type": "execute_result"
    }
   ],
   "source": [
    "np.sqrt(mean_squared_error(ytrain,train_predict))"
   ]
  },
  {
   "cell_type": "code",
   "execution_count": 110,
   "id": "e7996d5e",
   "metadata": {},
   "outputs": [
    {
     "data": {
      "text/plain": [
       "23445.32588801907"
      ]
     },
     "execution_count": 110,
     "metadata": {},
     "output_type": "execute_result"
    }
   ],
   "source": [
    "np.sqrt(mean_squared_error(ytest,test_predict))"
   ]
  },
  {
   "cell_type": "code",
   "execution_count": 112,
   "id": "7b2cf58b",
   "metadata": {},
   "outputs": [],
   "source": [
    "look_back=150\n",
    "trainpredictplot=np.empty_like(df1)\n",
    "trainpredictplot[:,:]=np.nan\n",
    "trainpredictplot[look_back:len(train_predict)+look_back,:]=train_predict\n",
    "\n",
    "testpredictplot=np.empty_like(df1)\n",
    "testpredictplot[:,:]=np.nan\n",
    "testpredictplot[len(train_predict)+(look_back*2)+1:len(df1)-1,:]=test_predict\n"
   ]
  },
  {
   "cell_type": "code",
   "execution_count": 113,
   "id": "4510b8a8",
   "metadata": {},
   "outputs": [
    {
     "data": {
      "text/plain": [
       "array([[nan],\n",
       "       [nan],\n",
       "       [nan],\n",
       "       ...,\n",
       "       [nan],\n",
       "       [nan],\n",
       "       [nan]])"
      ]
     },
     "execution_count": 113,
     "metadata": {},
     "output_type": "execute_result"
    }
   ],
   "source": [
    "trainpredictplot"
   ]
  },
  {
   "cell_type": "code",
   "execution_count": 114,
   "id": "d2c8a93b",
   "metadata": {},
   "outputs": [
    {
     "data": {
      "image/png": "[encoded data removed]",
      "text/plain": [
       "<Figure size 432x288 with 1 Axes>"
      ]
     },
     "metadata": {
      "needs_background": "light"
     },
     "output_type": "display_data"
    }
   ],
   "source": [
    "plt.plot(sc.inverse_transform(df1))\n",
    "plt.plot(trainpredictplot)\n",
    "plt.plot(testpredictplot)\n",
    "plt.show()"
   ]
  },
  {
   "cell_type": "code",
   "execution_count": 115,
   "id": "32e39693",
   "metadata": {},
   "outputs": [
    {
     "data": {
      "text/plain": [
       "748"
      ]
     },
     "execution_count": 115,
     "metadata": {},
     "output_type": "execute_result"
    }
   ],
   "source": [
    "len(test_data)"
   ]
  },
  {
   "cell_type": "code",
   "execution_count": 134,
   "id": "1436dc68",
   "metadata": {},
   "outputs": [
    {
     "data": {
      "text/plain": [
       "(1, 151)"
      ]
     },
     "execution_count": 134,
     "metadata": {},
     "output_type": "execute_result"
    }
   ],
   "source": [
    "x_input=test_data[597:].reshape(1,-1)\n",
    "x_input.shape"
   ]
  },
  {
   "cell_type": "code",
   "execution_count": 135,
   "id": "9dbf1cfc",
   "metadata": {},
   "outputs": [],
   "source": [
    "temp_input=list(x_input)\n",
    "temp_input=temp_input[0].tolist()"
   ]
  },
  {
   "cell_type": "code",
   "execution_count": 136,
   "id": "48b3ffac",
   "metadata": {},
   "outputs": [
    {
     "data": {
      "text/plain": [
       "151"
      ]
     },
     "execution_count": 136,
     "metadata": {},
     "output_type": "execute_result"
    }
   ],
   "source": [
    "len(temp_input)"
   ]
  },
  {
   "cell_type": "code",
   "execution_count": 137,
   "id": "7c44555d",
   "metadata": {},
   "outputs": [
    {
     "name": "stdout",
     "output_type": "stream",
     "text": [
      "0 day input [[0.4767276]]\n",
      "1 day input [[0.44471171]]\n",
      "2 day input [[0.41442505]]\n",
      "3 day input [[0.3900524]]\n",
      "4 day input [[0.37229934]]\n",
      "5 day input [[0.36068982]]\n",
      "6 day input [[0.3539599]]\n",
      "7 day input [[0.3505487]]\n",
      "8 day input [[0.34894186]]\n",
      "9 day input [[0.3478729]]\n",
      "10 day input [[0.34641644]]\n",
      "11 day input [[0.3440025]]\n",
      "12 day input [[0.34038314]]\n",
      "13 day input [[0.33557153]]\n",
      "14 day input [[0.32976717]]\n",
      "15 day input [[0.32328022]]\n",
      "16 day input [[0.31646279]]\n",
      "17 day input [[0.3096511]]\n",
      "18 day input [[0.30312622]]\n",
      "19 day input [[0.29709023]]\n",
      "20 day input [[0.29165998]]\n",
      "21 day input [[0.28687313]]\n",
      "22 day input [[0.28270438]]\n",
      "23 day input [[0.27908358]]\n",
      "24 day input [[0.27591616]]\n",
      "25 day input [[0.27310017]]\n",
      "26 day input [[0.27053967]]\n",
      "27 day input [[0.2681529]]\n",
      "28 day input [[0.2658778]]\n",
      "29 day input [[0.2636725]]\n",
      "30 day input [[0.26151434]]\n"
     ]
    }
   ],
   "source": [
    "lst_output=[]\n",
    "n_steps=150\n",
    "i=0\n",
    "while (i<31):\n",
    "    if (len(temp_input)>150):\n",
    "        x_input=np.array(temp_input[1:])\n",
    "        x_input=x_input.reshape(1,-1)\n",
    "        x_input=x_input.reshape((1,n_steps,1))\n",
    "        yhat=model.predict(x_input,verbose=0)\n",
    "        print('{} day input {}'.format(i,yhat))\n",
    "        temp_input.extend(yhat[0].tolist())\n",
    "        temp_input=temp_input[1:]\n",
    "        lst_output.extend(yhat.tolist())\n",
    "        i=i+1\n",
    "    else:\n",
    "        x_input=x_input.reshape((1,n_steps,1))\n",
    "        yhat=model.predict(x_input,verbose=0)\n",
    "        print(yhat[0])\n",
    "        temp_input.extend(yhat[0].tolist())\n",
    "        print(len(temp_input))\n",
    "        lst_output.extend(yhat.tolist())\n",
    "        i=i+1"
   ]
  },
  {
   "cell_type": "code",
   "execution_count": 138,
   "id": "c6f54df0",
   "metadata": {},
   "outputs": [],
   "source": [
    "day_new=np.arange(1,151)\n",
    "day_pred=np.arange(151,182)"
   ]
  },
  {
   "cell_type": "code",
   "execution_count": 139,
   "id": "49abf544",
   "metadata": {},
   "outputs": [
    {
     "data": {
      "text/plain": [
       "2991"
      ]
     },
     "execution_count": 139,
     "metadata": {},
     "output_type": "execute_result"
    }
   ],
   "source": [
    "len(df1)"
   ]
  },
  {
   "cell_type": "code",
   "execution_count": 140,
   "id": "ed91f7d9",
   "metadata": {},
   "outputs": [
    {
     "data": {
      "text/plain": [
       "[<matplotlib.lines.Line2D at 0x25c93e94df0>]"
      ]
     },
     "execution_count": 140,
     "metadata": {},
     "output_type": "execute_result"
    },
    {
     "data": {
      "image/png": "[encoded data removed]",
      "text/plain": [
       "<Figure size 432x288 with 1 Axes>"
      ]
     },
     "metadata": {
      "needs_background": "light"
     },
     "output_type": "display_data"
    }
   ],
   "source": [
    "plt.plot(day_new,sc.inverse_transform(df1[2841:]))\n",
    "plt.plot(day_pred,sc.inverse_transform(lst_output))"
   ]
  },
  {
   "cell_type": "code",
   "execution_count": 141,
   "id": "2bef3b53",
   "metadata": {},
   "outputs": [
    {
     "data": {
      "text/plain": [
       "[<matplotlib.lines.Line2D at 0x25c93f926a0>]"
      ]
     },
     "execution_count": 141,
     "metadata": {},
     "output_type": "execute_result"
    },
    {
     "data": {
      "image/png": "[encoded data removed]",
      "text/plain": [
       "<Figure size 432x288 with 1 Axes>"
      ]
     },
     "metadata": {
      "needs_background": "light"
     },
     "output_type": "display_data"
    }
   ],
   "source": [
    "df3=df1.tolist()\n",
    "df3.extend(lst_output)\n",
    "plt.plot(df3[1000:])"
   ]
  }
 ],
 "metadata": {
  "kernelspec": {
   "display_name": "Python 3",
   "language": "python",
   "name": "python3"
  },
  "language_info": {
   "codemirror_mode": {
    "name": "ipython",
    "version": 3
   },
   "file_extension": ".py",
   "mimetype": "text/x-python",
   "name": "python",
   "nbconvert_exporter": "python",
   "pygments_lexer": "ipython3",
   "version": "3.8.8"
  }
 },
 "nbformat": 4,
 "nbformat_minor": 5
}
